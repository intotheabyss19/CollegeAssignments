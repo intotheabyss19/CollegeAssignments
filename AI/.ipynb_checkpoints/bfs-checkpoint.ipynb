{
 "cells": [
  {
   "cell_type": "code",
   "execution_count": 184,
   "metadata": {},
   "outputs": [],
   "source": [
    "G = {\n",
    "\"A\":[\"B\", \"C\", \"G\"], \n",
    "\"B\":[\"A\", \"D\"],\n",
    "\"C\":[\"A\", \"D\", \"E\", \"F\"],\n",
    "\"D\":[\"B\", \"C\", \"F\"],\n",
    "\"E\":[\"C\", \"F\"],\n",
    "\"F\":[\"C\", \"D\", \"E\"],\n",
    "\"G\":[\"A\"]\n",
    "}"
   ]
  },
  {
   "cell_type": "code",
   "execution_count": 199,
   "metadata": {},
   "outputs": [],
   "source": [
    "def bfs(G):\n",
    "    Queue = [\"A\"]\n",
    "    Visited = [\"A\"]\n",
    "    while Queue:\n",
    "        key = Queue.pop(0)\n",
    "        for node in G[key]:\n",
    "            if node not in Visited:\n",
    "                Visited.append(node)\n",
    "                Queue.append(node)\n",
    "    return Visited"
   ]
  },
  {
   "cell_type": "code",
   "execution_count": 200,
   "metadata": {},
   "outputs": [],
   "source": [
    "def dfs(G, start):\n",
    "    if start not in G:\n",
    "        return []\n",
    "\n",
    "    visited = set()\n",
    "    order = []\n",
    "\n",
    "    def dfs_recursive(node):\n",
    "        if node in visited:\n",
    "            return\n",
    "        visited.add(node)\n",
    "        order.append(node)\n",
    "        for neighbor in G.get(node, []):\n",
    "            dfs_recursive(neighbor)\n",
    "\n",
    "    dfs_recursive(start)\n",
    "    return order"
   ]
  },
  {
   "cell_type": "code",
   "execution_count": 201,
   "metadata": {},
   "outputs": [],
   "source": [
    "def main():\n",
    "    print(\"BFS Traversal: \", end = \"\")\n",
    "    for key in bfs(G):\n",
    "        print(\" -> \", key, end = \"\")\n",
    "    print()\n",
    "\n",
    "    print(\"DFS Traversal: \", end = \"\")\n",
    "    for key in dfs(G, \"A\"):\n",
    "        print(\" -> \", key, end = \"\")\n",
    "    print()"
   ]
  },
  {
   "cell_type": "code",
   "execution_count": 202,
   "metadata": {},
   "outputs": [
    {
     "name": "stdout",
     "output_type": "stream",
     "text": [
      "BFS Traversal:  ->  A ->  B ->  C ->  G ->  D ->  E ->  F\n",
      "DFS Traversal:  ->  A ->  B ->  D ->  C ->  E ->  F ->  G\n"
     ]
    }
   ],
   "source": [
    "if __name__ == \"__main__\":\n",
    "    main()"
   ]
  }
 ],
 "metadata": {
  "kernelspec": {
   "display_name": ".venv",
   "language": "python",
   "name": "python3"
  },
  "language_info": {
   "codemirror_mode": {
    "name": "ipython",
    "version": 3
   },
   "file_extension": ".py",
   "mimetype": "text/x-python",
   "name": "python",
   "nbconvert_exporter": "python",
   "pygments_lexer": "ipython3",
   "version": "3.11.2"
  }
 },
 "nbformat": 4,
 "nbformat_minor": 2
}
