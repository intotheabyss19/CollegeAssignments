{
 "cells": [
  {
   "cell_type": "code",
   "execution_count": 1,
   "metadata": {},
   "outputs": [],
   "source": [
    "def bfs(G, start_node):\n",
    "    if start_node not in G:\n",
    "        return []\n",
    "\n",
    "    queue = [start_node]\n",
    "    visited = [start_node]\n",
    "    while queue:\n",
    "        key = queue.pop(0)\n",
    "        for node in G.get(key, []):\n",
    "            if node not in visited:\n",
    "                visited.append(node)\n",
    "                queue.append(node)\n",
    "    return visited"
   ]
  },
  {
   "cell_type": "code",
   "execution_count": 2,
   "metadata": {},
   "outputs": [],
   "source": [
    "def dfs(G, start_node):\n",
    "    if start_node not in G:\n",
    "        return []\n",
    "\n",
    "    visited = set()\n",
    "    order = []\n",
    "\n",
    "    def dfs_recursive(node):\n",
    "        if node in visited:\n",
    "            return\n",
    "        visited.add(node)\n",
    "        order.append(node)\n",
    "        for neighbor in G.get(node, []):\n",
    "            dfs_recursive(neighbor)\n",
    "\n",
    "    dfs_recursive(start_node)\n",
    "    return order\n"
   ]
  },
  {
   "cell_type": "code",
   "execution_count": 1,
   "metadata": {},
   "outputs": [],
   "source": [
    "def get_graph_input():\n",
    "    graph = {}\n",
    "    print(\"Enter the graph as an adjacency list: \")\n",
    "    print(\"Example: A: B C G\")\n",
    "    print(\"Enter 'done' to stop.\")\n",
    "\n",
    "    while True:\n",
    "        line = input(\":= \").strip()\n",
    "        if line.lower() == 'done':\n",
    "            break\n",
    "        \n",
    "            print(\"Invalid format. Please use 'Node: Neighbor1 Neighbor2 ...'\")\n",
    "            continue\n",
    "        \n",
    "        node = parts[0].strip().upper()\n",
    "        neighbors_str = parts[1].strip()\n",
    "        \n",
    "        if not neighbors_str:\n",
    "            graph[node] = []\n",
    "        else:\n",
    "            neighbors = [n.strip().upper() for n in neighbors_str.split()]\n",
    "            graph[node] = neighbors\n",
    "    return graph"
   ]
  },
  {
   "cell_type": "code",
   "execution_count": null,
   "metadata": {},
   "outputs": [
    {
     "name": "stdout",
     "output_type": "stream",
     "text": [
      "Enter the graph as an adjacency list: \n",
      "Example: A: B C G\n",
      "Enter 'done' to stop.\n"
     ]
    }
   ],
   "source": [
    "def main():\n",
    "    graph_input = get_graph_input()\n",
    "\n",
    "    if not graph_input:\n",
    "        print(\"No graph was entered. Exiting.\")\n",
    "        return\n",
    "\n",
    "    while True:\n",
    "        start_node = input(\"Enter the starting node for traversal: \").strip().upper()\n",
    "        if start_node in graph_input:\n",
    "            break\n",
    "        else:\n",
    "            print(f\"Starting node '{start_node}' not found in the graph. Please enter a valid node.\")\n",
    "\n",
    "    print(\"\\nBFS Traversal: \", end = \"\")\n",
    "    for key in bfs(graph_input, start_node):\n",
    "        print(\" -> \", key, end = \"\")\n",
    "    print()\n",
    "\n",
    "    print(\"DFS Traversal: \", end = \"\")\n",
    "    for key in dfs(graph_input, start_node):\n",
    "        print(\" -> \", key, end = \"\")\n",
    "    print()\n",
    "\n",
    "if __name__ == \"__main__\":\n",
    "    main()"
   ]
  }
 ],
 "metadata": {
  "kernelspec": {
   "display_name": ".venv",
   "language": "python",
   "name": "python3"
  },
  "language_info": {
   "codemirror_mode": {
    "name": "ipython",
    "version": 3
   },
   "file_extension": ".py",
   "mimetype": "text/x-python",
   "name": "python",
   "nbconvert_exporter": "python",
   "pygments_lexer": "ipython3",
   "version": "3.13.5"
  }
 },
 "nbformat": 4,
 "nbformat_minor": 4
}
