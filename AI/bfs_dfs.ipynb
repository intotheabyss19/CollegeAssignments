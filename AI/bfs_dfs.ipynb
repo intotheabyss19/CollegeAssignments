{
 "cells": [
  {
   "cell_type": "code",
   "execution_count": 8,
   "metadata": {},
   "outputs": [],
   "source": [
    "from collections import defaultdict"
   ]
  },
  {
   "cell_type": "code",
   "execution_count": 9,
   "metadata": {},
   "outputs": [],
   "source": [
    "# G = {\n",
    "# \"A\":[\"B\", \"C\", \"G\"], \n",
    "# \"B\":[\"A\", \"D\"],\n",
    "# \"C\":[\"A\", \"D\", \"E\", \"F\"],\n",
    "# \"D\":[\"B\", \"C\", \"F\"],\n",
    "# \"E\":[\"C\", \"F\"],\n",
    "# \"F\":[\"C\", \"D\", \"E\"],\n",
    "# \"G\":[\"A\"]\n",
    "# }\n",
    "G = {\n",
    "\"A\":[\"F\", \"C\", \"D\", \"G\"], \n",
    "\"B\":[\"F\", \"G\"],\n",
    "\"C\":[\"A\", \"E\", \"D\"],\n",
    "\"D\":[\"E\", \"F\", \"A\", \"C\"],\n",
    "\"E\":[\"C\", \"F\", \"G\"],\n",
    "\"F\":[\"A\", \"B\", \"D\"],\n",
    "\"G\":[\"A\", \"B\", \"E\"]\n",
    "}"
   ]
  },
  {
   "cell_type": "code",
   "execution_count": 10,
   "metadata": {},
   "outputs": [],
   "source": [
    "def bfs(G):\n",
    "    Queue = [\"C\"]\n",
    "    Visited = [\"C\"]\n",
    "    while Queue:\n",
    "        key = Queue.pop(0)\n",
    "        for node in G[key]:\n",
    "            if node not in Visited:\n",
    "                Visited.append(node)\n",
    "                Queue.append(node)\n",
    "    return Visited"
   ]
  },
  {
   "cell_type": "code",
   "execution_count": 11,
   "metadata": {},
   "outputs": [],
   "source": [
    "def dfs(G, start):\n",
    "    if start not in G:\n",
    "        return []\n",
    "\n",
    "    visited = set()\n",
    "    order = []\n",
    "\n",
    "    def dfs_recursive(node):\n",
    "        if node in visited:\n",
    "            return\n",
    "        visited.add(node)\n",
    "        order.append(node)\n",
    "        for neighbor in G.get(node, []):\n",
    "            dfs_recursive(neighbor)\n",
    "\n",
    "    dfs_recursive(start)\n",
    "    return order"
   ]
  },
  {
   "cell_type": "code",
   "execution_count": 12,
   "metadata": {},
   "outputs": [],
   "source": [
    "def main():\n",
    "    print(\"BFS Traversal: \", end = \"\")\n",
    "    for key in bfs(G):\n",
    "        print(\" -> \", key, end = \"\")\n",
    "    print()\n",
    "\n",
    "    print(\"DFS Traversal: \", end = \"\")\n",
    "    for key in dfs(G, \"C\"):\n",
    "        print(\" -> \", key, end = \"\")\n",
    "    print()"
   ]
  },
  {
   "cell_type": "code",
   "execution_count": 13,
   "metadata": {},
   "outputs": [
    {
     "name": "stdout",
     "output_type": "stream",
     "text": [
      "BFS Traversal:  ->  C ->  A ->  E ->  D ->  F ->  G ->  B\n",
      "DFS Traversal:  ->  C ->  A ->  F ->  B ->  G ->  E ->  D\n"
     ]
    }
   ],
   "source": [
    "if __name__ == \"__main__\":\n",
    "    main()"
   ]
  },
  {
   "cell_type": "code",
   "execution_count": null,
   "metadata": {},
   "outputs": [],
   "source": []
  },
  {
   "cell_type": "code",
   "execution_count": null,
   "metadata": {},
   "outputs": [],
   "source": []
  }
 ],
 "metadata": {
  "kernelspec": {
   "display_name": ".venv",
   "language": "python",
   "name": "python3"
  },
  "language_info": {
   "codemirror_mode": {
    "name": "ipython",
    "version": 3
   },
   "file_extension": ".py",
   "mimetype": "text/x-python",
   "name": "python",
   "nbconvert_exporter": "python",
   "pygments_lexer": "ipython3",
   "version": "3.13.5"
  }
 },
 "nbformat": 4,
 "nbformat_minor": 4
}
