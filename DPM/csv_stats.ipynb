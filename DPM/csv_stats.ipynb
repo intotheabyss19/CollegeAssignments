{
 "cells": [
  {
   "cell_type": "code",
   "execution_count": 56,
   "metadata": {},
   "outputs": [],
   "source": [
    "import pandas as pd\n",
    "import numpy as np\n",
    "from scipy import stats\n",
    "from math import sqrt\n",
    "from collections import defaultdict\n",
    "import matplotlib.pyplot as plt"
   ]
  },
  {
   "cell_type": "markdown",
   "metadata": {},
   "source": [
    "## (a) Load Iris dataset into pandas dataframe"
   ]
  },
  {
   "cell_type": "code",
   "execution_count": 11,
   "metadata": {},
   "outputs": [],
   "source": [
    "df = pd.read_csv('Iris.csv')"
   ]
  },
  {
   "cell_type": "markdown",
   "metadata": {},
   "source": [
    "## (b) Calculate mean, standard deviation, minimum and maximum values for each quantitative attribute"
   ]
  },
  {
   "cell_type": "code",
   "execution_count": 12,
   "metadata": {},
   "outputs": [],
   "source": [
    "def scale(column, min, max):\n",
    "    diff_sum = 0\n",
    "    i = 0\n",
    "    for row in df[column]:\n",
    "        df.loc[i, \"col\"] = (row - min) / (max - min)\n",
    "        i += 1"
   ]
  },
  {
   "cell_type": "code",
   "execution_count": 13,
   "metadata": {},
   "outputs": [],
   "source": [
    "def stddev(column, mean):\n",
    "    diff_sum_squared = 0\n",
    "    for row in df[column]:\n",
    "        diff_sum_squared += (row - mean) ** 2\n",
    "    return sqrt(diff_sum_squared / (len(df[column]) - 1))"
   ]
  },
  {
   "cell_type": "code",
   "execution_count": 46,
   "metadata": {},
   "outputs": [
    {
     "name": "stdout",
     "output_type": "stream",
     "text": [
      "For SepalLengthCm\n",
      "\tMean : 5.843333333333335\n",
      "\tMaximum : 7.9\n",
      "\tMinimum : 4.3\n",
      "\tStandard Deviation : 0.8280661279778629\n",
      "For SepalWidthCm\n",
      "\tMean : 3.0540000000000007\n",
      "\tMaximum : 4.4\n",
      "\tMinimum : 2.0\n",
      "\tStandard Deviation : 0.4335943113621737\n",
      "For PetalLengthCm\n",
      "\tMean : 3.7586666666666693\n",
      "\tMaximum : 6.9\n",
      "\tMinimum : 1.0\n",
      "\tStandard Deviation : 1.7644204199522617\n",
      "For PetalWidthCm\n",
      "\tMean : 1.1986666666666672\n",
      "\tMaximum : 2.5\n",
      "\tMinimum : 0.1\n",
      "\tStandard Deviation : 0.7631607417008414\n"
     ]
    }
   ],
   "source": [
    "counter = 0 \n",
    "for column in df:\n",
    "    if counter == 0:\n",
    "        counter += 1\n",
    "        continue\n",
    "    if counter == 5:\n",
    "        break\n",
    "    counter += 1\n",
    "    sum = 0.0\n",
    "    min = 1e9\n",
    "    max = -1e9\n",
    "    flag = 0\n",
    "\n",
    "    for row in df[column]:\n",
    "        sum += row\n",
    "        if min > row:\n",
    "            min = row\n",
    "        if max < row:\n",
    "            max = row\n",
    "    print(f\"For {column}\")\n",
    "    mean = sum / len(df[column])\n",
    "    print(f\"\\tMean : {mean}\")\n",
    "    print(f\"\\tMaximum : {max}\")\n",
    "    print(f\"\\tMinimum : {min}\")\n",
    "    print(f\"\\tStandard Deviation : {stddev(column, mean)}\")\n",
    "    # scale(column, min, max)\n"
   ]
  },
  {
   "cell_type": "markdown",
   "metadata": {},
   "source": [
    "## (c) Count the frequency of each distinct value in the qualitative attribute 'class' in the Iris dataset."
   ]
  },
  {
   "cell_type": "code",
   "execution_count": null,
   "metadata": {},
   "outputs": [
    {
     "name": "stdout",
     "output_type": "stream",
     "text": [
      "defaultdict(<class 'int'>, {'Iris-setosa': 50, 'Iris-versicolor': 50, 'Iris-virginica': 50})\n"
     ]
    }
   ],
   "source": [
    "def qualitative_frequency(column_name):\n",
    "    freq_dict = defaultdict(int)\n",
    "    for row in df[column_name]:\n",
    "        freq_dict[row] += 1\n",
    "    return freq_dict\n",
    "\n",
    "print(qualitative_frequency(\"Species\"))"
   ]
  },
  {
   "cell_type": "markdown",
   "metadata": {},
   "source": [
    "## (d) Display a summary of all attributes, including quantitative and qualitative in the Iris dataset using a table"
   ]
  },
  {
   "cell_type": "code",
   "execution_count": 35,
   "metadata": {},
   "outputs": [
    {
     "data": {
      "text/html": [
       "<div>\n",
       "<style scoped>\n",
       "    .dataframe tbody tr th:only-of-type {\n",
       "        vertical-align: middle;\n",
       "    }\n",
       "\n",
       "    .dataframe tbody tr th {\n",
       "        vertical-align: top;\n",
       "    }\n",
       "\n",
       "    .dataframe thead th {\n",
       "        text-align: right;\n",
       "    }\n",
       "</style>\n",
       "<table border=\"1\" class=\"dataframe\">\n",
       "  <thead>\n",
       "    <tr style=\"text-align: right;\">\n",
       "      <th></th>\n",
       "      <th>Id</th>\n",
       "      <th>SepalLengthCm</th>\n",
       "      <th>SepalWidthCm</th>\n",
       "      <th>PetalLengthCm</th>\n",
       "      <th>PetalWidthCm</th>\n",
       "      <th>Species</th>\n",
       "    </tr>\n",
       "  </thead>\n",
       "  <tbody>\n",
       "    <tr>\n",
       "      <th>count</th>\n",
       "      <td>150.000000</td>\n",
       "      <td>150.000000</td>\n",
       "      <td>150.000000</td>\n",
       "      <td>150.000000</td>\n",
       "      <td>150.000000</td>\n",
       "      <td>150</td>\n",
       "    </tr>\n",
       "    <tr>\n",
       "      <th>unique</th>\n",
       "      <td>NaN</td>\n",
       "      <td>NaN</td>\n",
       "      <td>NaN</td>\n",
       "      <td>NaN</td>\n",
       "      <td>NaN</td>\n",
       "      <td>3</td>\n",
       "    </tr>\n",
       "    <tr>\n",
       "      <th>top</th>\n",
       "      <td>NaN</td>\n",
       "      <td>NaN</td>\n",
       "      <td>NaN</td>\n",
       "      <td>NaN</td>\n",
       "      <td>NaN</td>\n",
       "      <td>Iris-setosa</td>\n",
       "    </tr>\n",
       "    <tr>\n",
       "      <th>freq</th>\n",
       "      <td>NaN</td>\n",
       "      <td>NaN</td>\n",
       "      <td>NaN</td>\n",
       "      <td>NaN</td>\n",
       "      <td>NaN</td>\n",
       "      <td>50</td>\n",
       "    </tr>\n",
       "    <tr>\n",
       "      <th>mean</th>\n",
       "      <td>75.500000</td>\n",
       "      <td>5.843333</td>\n",
       "      <td>3.054000</td>\n",
       "      <td>3.758667</td>\n",
       "      <td>1.198667</td>\n",
       "      <td>NaN</td>\n",
       "    </tr>\n",
       "    <tr>\n",
       "      <th>std</th>\n",
       "      <td>43.445368</td>\n",
       "      <td>0.828066</td>\n",
       "      <td>0.433594</td>\n",
       "      <td>1.764420</td>\n",
       "      <td>0.763161</td>\n",
       "      <td>NaN</td>\n",
       "    </tr>\n",
       "    <tr>\n",
       "      <th>min</th>\n",
       "      <td>1.000000</td>\n",
       "      <td>4.300000</td>\n",
       "      <td>2.000000</td>\n",
       "      <td>1.000000</td>\n",
       "      <td>0.100000</td>\n",
       "      <td>NaN</td>\n",
       "    </tr>\n",
       "    <tr>\n",
       "      <th>25%</th>\n",
       "      <td>38.250000</td>\n",
       "      <td>5.100000</td>\n",
       "      <td>2.800000</td>\n",
       "      <td>1.600000</td>\n",
       "      <td>0.300000</td>\n",
       "      <td>NaN</td>\n",
       "    </tr>\n",
       "    <tr>\n",
       "      <th>50%</th>\n",
       "      <td>75.500000</td>\n",
       "      <td>5.800000</td>\n",
       "      <td>3.000000</td>\n",
       "      <td>4.350000</td>\n",
       "      <td>1.300000</td>\n",
       "      <td>NaN</td>\n",
       "    </tr>\n",
       "    <tr>\n",
       "      <th>75%</th>\n",
       "      <td>112.750000</td>\n",
       "      <td>6.400000</td>\n",
       "      <td>3.300000</td>\n",
       "      <td>5.100000</td>\n",
       "      <td>1.800000</td>\n",
       "      <td>NaN</td>\n",
       "    </tr>\n",
       "    <tr>\n",
       "      <th>max</th>\n",
       "      <td>150.000000</td>\n",
       "      <td>7.900000</td>\n",
       "      <td>4.400000</td>\n",
       "      <td>6.900000</td>\n",
       "      <td>2.500000</td>\n",
       "      <td>NaN</td>\n",
       "    </tr>\n",
       "  </tbody>\n",
       "</table>\n",
       "</div>"
      ],
      "text/plain": [
       "                Id  SepalLengthCm  SepalWidthCm  PetalLengthCm  PetalWidthCm  \\\n",
       "count   150.000000     150.000000    150.000000     150.000000    150.000000   \n",
       "unique         NaN            NaN           NaN            NaN           NaN   \n",
       "top            NaN            NaN           NaN            NaN           NaN   \n",
       "freq           NaN            NaN           NaN            NaN           NaN   \n",
       "mean     75.500000       5.843333      3.054000       3.758667      1.198667   \n",
       "std      43.445368       0.828066      0.433594       1.764420      0.763161   \n",
       "min       1.000000       4.300000      2.000000       1.000000      0.100000   \n",
       "25%      38.250000       5.100000      2.800000       1.600000      0.300000   \n",
       "50%      75.500000       5.800000      3.000000       4.350000      1.300000   \n",
       "75%     112.750000       6.400000      3.300000       5.100000      1.800000   \n",
       "max     150.000000       7.900000      4.400000       6.900000      2.500000   \n",
       "\n",
       "            Species  \n",
       "count           150  \n",
       "unique            3  \n",
       "top     Iris-setosa  \n",
       "freq             50  \n",
       "mean            NaN  \n",
       "std             NaN  \n",
       "min             NaN  \n",
       "25%             NaN  \n",
       "50%             NaN  \n",
       "75%             NaN  \n",
       "max             NaN  "
      ]
     },
     "execution_count": 35,
     "metadata": {},
     "output_type": "execute_result"
    }
   ],
   "source": [
    "df.describe(include = \"all\")"
   ]
  },
  {
   "cell_type": "markdown",
   "metadata": {},
   "source": [
    "## (e) Compute the covariance and correlation between pairs of attributes in the dataset"
   ]
  },
  {
   "cell_type": "code",
   "execution_count": null,
   "metadata": {},
   "outputs": [
    {
     "name": "stdout",
     "output_type": "stream",
     "text": [
      "Covariance between SepalLengthCm and SepalLengthCm is: 0.6856935123042504\n",
      "Covariance between SepalLengthCm and SepalWidthCm is: -0.03926845637583893\n",
      "Covariance between SepalLengthCm and PetalLengthCm is: 1.2736823266219246\n",
      "Covariance between SepalLengthCm and PetalWidthCm is: 0.5169038031319911\n",
      "Covariance between SepalWidthCm and SepalLengthCm is: -0.03926845637583893\n",
      "Covariance between SepalWidthCm and SepalWidthCm is: 0.18800402684563766\n",
      "Covariance between SepalWidthCm and PetalLengthCm is: -0.32171275167785235\n",
      "Covariance between SepalWidthCm and PetalWidthCm is: -0.11798120805369115\n",
      "Covariance between PetalLengthCm and SepalLengthCm is: 1.2736823266219246\n",
      "Covariance between PetalLengthCm and SepalWidthCm is: -0.32171275167785235\n",
      "Covariance between PetalLengthCm and PetalLengthCm is: 3.1131794183445187\n",
      "Covariance between PetalLengthCm and PetalWidthCm is: 1.2963874720357944\n",
      "Covariance between PetalWidthCm and SepalLengthCm is: 0.5169038031319911\n",
      "Covariance between PetalWidthCm and SepalWidthCm is: -0.11798120805369115\n",
      "Covariance between PetalWidthCm and PetalLengthCm is: 1.2963874720357944\n",
      "Covariance between PetalWidthCm and PetalWidthCm is: 0.5824143176733781\n"
     ]
    }
   ],
   "source": [
    "column_list = [\"SepalLengthCm\", \"SepalWidthCm\", \"PetalLengthCm\", \"PetalWidthCm\"]\n",
    "for column1 in column_list:\n",
    "    for column2 in column_list:\n",
    "        cov = df[column1].cov(df[column2])\n",
    "        print(f\"Covariance between {column1} and {column2} is: {cov}\")"
   ]
  },
  {
   "cell_type": "markdown",
   "metadata": {},
   "source": [
    "## (f) Display a histogram for the 'sepal length' attribute in the Iris dataset"
   ]
  },
  {
   "cell_type": "code",
   "execution_count": 63,
   "metadata": {},
   "outputs": [
    {
     "data": {
      "text/plain": [
       "Text(0.5, 0, 'Values')"
      ]
     },
     "execution_count": 63,
     "metadata": {},
     "output_type": "execute_result"
    },
    {
     "data": {
      "image/png": "[encoded data removed]",
      "text/plain": [
       "<Figure size 640x480 with 1 Axes>"
      ]
     },
     "metadata": {},
     "output_type": "display_data"
    }
   ],
   "source": [
    "plt.hist(df[\"SepalLengthCm\"], edgecolor = \"black\")\n",
    "plt.ylabel(\"Sepal Length\")\n",
    "plt.xlabel(\"Values\")"
   ]
  },
  {
   "cell_type": "markdown",
   "metadata": {},
   "source": [
    "## (g) Create a boxplot to show the distribution of values for each attribute in the Iris dataset."
   ]
  },
  {
   "cell_type": "code",
   "execution_count": null,
   "metadata": {},
   "outputs": [],
   "source": []
  },
  {
   "cell_type": "markdown",
   "metadata": {},
   "source": [
    "## (h) Create scatter plots to visualize the joint distribution of each pair of attributes in the Iris dataset"
   ]
  },
  {
   "cell_type": "markdown",
   "metadata": {},
   "source": [
    "## (i) Use parallel coordinates to display all the data points simultaneously in the Iris dataset."
   ]
  },
  {
   "cell_type": "code",
   "execution_count": null,
   "metadata": {},
   "outputs": [],
   "source": []
  }
 ],
 "metadata": {
  "kernelspec": {
   "display_name": ".venv",
   "language": "python",
   "name": "python3"
  },
  "language_info": {
   "codemirror_mode": {
    "name": "ipython",
    "version": 3
   },
   "file_extension": ".py",
   "mimetype": "text/x-python",
   "name": "python",
   "nbconvert_exporter": "python",
   "pygments_lexer": "ipython3",
   "version": "3.11.2"
  }
 },
 "nbformat": 4,
 "nbformat_minor": 2
}
